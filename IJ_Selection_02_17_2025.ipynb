{
 "cells": [
  {
   "cell_type": "code",
   "execution_count": null,
   "id": "bbed454a-ae3b-4d58-b404-07920e78296f",
   "metadata": {},
   "outputs": [],
   "source": [
    "Import necessary libraries"
   ]
  },
  {
   "cell_type": "code",
   "execution_count": 1,
   "id": "79a7609a-a8c0-4a9d-8a72-55b00c93a566",
   "metadata": {},
   "outputs": [],
   "source": [
    "import numpy as np\n",
    "import pandas as pd\n",
    "from sklearn.ensemble import RandomForestClassifier\n",
    "from sklearn.model_selection import train_test_split\n",
    "from sklearn.metrics import accuracy_score as acc\n",
    "from mlxtend.feature_selection import SequentialFeatureSelector as sfs"
   ]
  },
  {
   "cell_type": "markdown",
   "id": "2727c33f-700b-42f0-9d4b-210b635520a9",
   "metadata": {},
   "source": [
    "Read data"
   ]
  },
  {
   "cell_type": "code",
   "execution_count": 3,
   "id": "555c645e-76b0-4d08-8227-1270902759c7",
   "metadata": {},
   "outputs": [],
   "source": [
    "df = pd.read_csv('winequality-white.csv', sep=';')"
   ]
  },
  {
   "cell_type": "markdown",
   "id": "6f4739dc-ed82-44ce-851d-12186323434a",
   "metadata": {},
   "source": [
    "Compute descriptive statistics for the dataset"
   ]
  },
  {
   "cell_type": "code",
   "execution_count": 16,
   "id": "b7c28b82-7702-4798-8c1f-244583d14dc4",
   "metadata": {},
   "outputs": [],
   "source": [
    "desc_stats = df.describe()\n",
    "# Write the descriptive statistics to a CSV file in the current directory\n",
    "output_file = 'IJ_Description_02_17_2025.csv'\n",
    "desc_stats.to_csv(output_file)"
   ]
  },
  {
   "cell_type": "markdown",
   "id": "df29129f-2fa8-4566-95f0-856485eb0ca4",
   "metadata": {},
   "source": [
    "Train/test split"
   ]
  },
  {
   "cell_type": "code",
   "execution_count": 7,
   "id": "15136690-9aa2-46ed-8999-159c40d33f52",
   "metadata": {},
   "outputs": [
    {
     "name": "stdout",
     "output_type": "stream",
     "text": [
      "Training dataset shape: (3673, 11) (3673,)\n",
      "Testing dataset shape: (1225, 11) (1225,)\n"
     ]
    }
   ],
   "source": [
    "X_train, X_test, y_train, y_test = train_test_split(\n",
    "    df.values[:,:-1],\n",
    "    df.values[:,-1:],\n",
    "    test_size=0.25,\n",
    "    random_state=42)\n",
    "\n",
    "y_train = y_train.ravel()\n",
    "y_test = y_test.ravel()\n",
    "\n",
    "print('Training dataset shape:', X_train.shape, y_train.shape)\n",
    "print('Testing dataset shape:', X_test.shape, y_test.shape)"
   ]
  },
  {
   "cell_type": "markdown",
   "id": "e3be902f-e8a2-48d9-a617-53dc1bcb6af3",
   "metadata": {},
   "source": [
    "Build RF Classifier and define subset of feature for step forward selection"
   ]
  },
  {
   "cell_type": "code",
   "execution_count": 12,
   "id": "eab3c679-7aa2-4c69-96ba-ddcb079e5d6f",
   "metadata": {},
   "outputs": [
    {
     "name": "stderr",
     "output_type": "stream",
     "text": [
      "\n",
      "[2025-02-17 16:53:09] Features: 1/6 -- score: 0.4938705073309978\n",
      "[2025-02-17 16:53:29] Features: 2/6 -- score: 0.5439744944299246\n",
      "[2025-02-17 16:53:47] Features: 3/6 -- score: 0.602778550112143\n",
      "[2025-02-17 16:54:08] Features: 4/6 -- score: 0.6221012437672616\n",
      "[2025-02-17 16:54:28] Features: 5/6 -- score: 0.6354460694359487\n",
      "[2025-02-17 16:54:48] Features: 6/6 -- score: 0.6417012363528517"
     ]
    }
   ],
   "source": [
    "# Build RF classifier to use in feature selection\n",
    "clf = RandomForestClassifier(n_estimators=100, n_jobs=-1)\n",
    "\n",
    "# Build step forward feature selection\n",
    "sfs1 = sfs(clf,\n",
    "           k_features=6,\n",
    "           forward=True,\n",
    "           floating=False,\n",
    "           verbose=2,\n",
    "           scoring='accuracy',\n",
    "           cv=5)\n",
    "\n",
    "# Perform SFFS\n",
    "sfs1 = sfs1.fit(X_train, y_train)"
   ]
  },
  {
   "cell_type": "markdown",
   "id": "589ac414-982e-4e17-91e0-aafce49fe242",
   "metadata": {},
   "source": [
    "Identify selected features"
   ]
  },
  {
   "cell_type": "code",
   "execution_count": 13,
   "id": "ba28fe65-efca-45a4-9ecc-10a60b51063a",
   "metadata": {},
   "outputs": [
    {
     "name": "stdout",
     "output_type": "stream",
     "text": [
      "[1, 3, 6, 7, 8, 10]\n"
     ]
    }
   ],
   "source": [
    "# Which features?\n",
    "feat_cols = list(sfs1.k_feature_idx_)\n",
    "print(feat_cols)"
   ]
  },
  {
   "cell_type": "markdown",
   "id": "f73d637e-adf1-4a40-a891-2af20c1d9fda",
   "metadata": {},
   "source": [
    "Build classifier with only subset of features"
   ]
  },
  {
   "cell_type": "code",
   "execution_count": 14,
   "id": "2c6a694b-1f55-4538-9919-55fe3652e207",
   "metadata": {},
   "outputs": [
    {
     "name": "stdout",
     "output_type": "stream",
     "text": [
      "Training accuracy on selected features: 0.562\n",
      "Testing accuracy on selected features: 0.510\n",
      "Results written to model_results.csv\n"
     ]
    }
   ],
   "source": [
    "# Build full model with selected features\n",
    "clf = RandomForestClassifier(n_estimators=1000, random_state=42, max_depth=4)\n",
    "clf.fit(X_train[:, feat_cols], y_train)\n",
    "# Make predictions on training data and compute training accuracy\n",
    "y_train_pred = clf.predict(X_train[:, feat_cols])\n",
    "train_accuracy = acc(y_train, y_train_pred)\n",
    "print('Training accuracy on selected features: %.3f' % acc(y_train, y_train_pred))\n",
    "\n",
    "# Make predictions on testing data and compute testing accuracy\n",
    "y_test_pred = clf.predict(X_test[:, feat_cols])\n",
    "test_accuracy = acc(y_test, y_test_pred)\n",
    "print('Testing accuracy on selected features: %.3f' % acc(y_test, y_test_pred))\n",
    "\n",
    "# Create a DataFrame with the results\n",
    "results_df = pd.DataFrame({\n",
    "    'Dataset': ['Train', 'Test'],\n",
    "    'Accuracy': [train_accuracy, test_accuracy]\n",
    "})\n",
    "# Write the results to a CSV file\n",
    "results_df.to_csv('model_results.csv', index=False)\n",
    "print(\"Results written to model_results.csv\")\n"
   ]
  }
 ],
 "metadata": {
  "kernelspec": {
   "display_name": "Python (Digita_Ag_2)",
   "language": "python",
   "name": "digital_ag_2"
  },
  "language_info": {
   "codemirror_mode": {
    "name": "ipython",
    "version": 3
   },
   "file_extension": ".py",
   "mimetype": "text/x-python",
   "name": "python",
   "nbconvert_exporter": "python",
   "pygments_lexer": "ipython3",
   "version": "3.11.11"
  }
 },
 "nbformat": 4,
 "nbformat_minor": 5
}
